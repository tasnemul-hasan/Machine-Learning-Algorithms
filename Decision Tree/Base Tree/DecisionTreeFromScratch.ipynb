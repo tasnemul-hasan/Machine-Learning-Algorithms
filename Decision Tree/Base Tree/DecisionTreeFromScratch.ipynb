{
 "cells": [
  {
   "cell_type": "markdown",
   "id": "e0fd7bcb-951f-4bb6-9959-b49ef6e44443",
   "metadata": {},
   "source": [
    "https://goo.gl/UdZoNr"
   ]
  },
  {
   "cell_type": "code",
   "execution_count": 1,
   "id": "a86aeca0-cb4b-4156-8ca5-4d6afea536a0",
   "metadata": {},
   "outputs": [],
   "source": [
    "import numpy as np"
   ]
  },
  {
   "cell_type": "code",
   "execution_count": 2,
   "id": "ba6706b7",
   "metadata": {},
   "outputs": [
    {
     "name": "stdout",
     "output_type": "stream",
     "text": [
      "['Color', 'Dimention', 'Wideth', 'Size', 'Label']\n"
     ]
    },
    {
     "data": {
      "text/plain": [
       "[['Green', 3, 2, 0.01, 'Apple'],\n",
       " ['Yellow', 3, 1, 0.07, 'Apple'],\n",
       " ['Red', 1, 0, 0.02, 'Grape'],\n",
       " ['Red', 1, 5, 0.03, 'Grape'],\n",
       " ['Yellow', 3, 2, 0.01, 'Lemon'],\n",
       " ['White', 2, 1, 0.09, 'Guava'],\n",
       " ['Blue', 1, 4, 0.07, 'Berry'],\n",
       " ['Black', 1, 3, 0.02, 'Berry']]"
      ]
     },
     "execution_count": 2,
     "metadata": {},
     "output_type": "execute_result"
    }
   ],
   "source": [
    "data = [\n",
    "    ['Green', 3, 2, 0.01,'Apple'],\n",
    "    ['Yellow', 3, 1, 0.07,'Apple'],\n",
    "    ['Red', 1, 0, 0.02,'Grape'],\n",
    "    ['Red', 1, 5, 0.03,'Grape'],\n",
    "    ['Yellow', 3, 2, 0.01,'Lemon'],\n",
    "    ['White', 2, 1, 0.09,'Guava'],\n",
    "    ['Blue', 1, 4, 0.07,'Berry'],\n",
    "    ['Black', 1, 3,0.02, 'Berry']\n",
    "    ]\n",
    "header = ['Color', 'Dimention', 'Wideth', 'Size', 'Label']\n",
    "print(header)\n",
    "data"
   ]
  },
  {
   "cell_type": "code",
   "execution_count": 3,
   "id": "c02f664b-1090-49dd-84df-680d952bb58b",
   "metadata": {},
   "outputs": [],
   "source": [
    "def getUnique(rows, col):\n",
    "    return set([row[col] for row in rows])\n",
    "    \n",
    "    \n",
    "def labelCounts(rows):\n",
    "    counts = {}\n",
    "    for row in rows:\n",
    "        label = row[-1]\n",
    "        if label not in counts:\n",
    "            counts[label] = 1\n",
    "        else:\n",
    "            counts[label] += 1\n",
    "            \n",
    "    return counts\n",
    "\n",
    "\n",
    "def isNumeric(value):\n",
    "    return isinstance(value, int) or isinstance(value, float)"
   ]
  },
  {
   "cell_type": "code",
   "execution_count": 4,
   "id": "db2a2138-f61c-4ae8-a068-7fea15d7af9c",
   "metadata": {},
   "outputs": [],
   "source": [
    "class Question:\n",
    "    def __init__(self, col, value):\n",
    "        self.col = col\n",
    "        self.value = value\n",
    "        \n",
    "    def match(self, row):\n",
    "        val = row[self.col]\n",
    "        if isNumeric(val):    \n",
    "            return val >= self.value\n",
    "        else:\n",
    "            return val == self.value\n",
    "        \n",
    "    def __repr__(self):\n",
    "        if isNumeric(self.value):\n",
    "            condition = '>='\n",
    "        else:\n",
    "            condition = '=='\n",
    "        return \"Is %s %s %s?\" % (header[self.col], condition, str(self.value))"
   ]
  },
  {
   "cell_type": "code",
   "execution_count": 5,
   "id": "b95c38b6-142a-4f62-a7f0-7e458af445d9",
   "metadata": {},
   "outputs": [],
   "source": [
    "def partition(rows, question):\n",
    "    true_rows, false_rows = [], []\n",
    "    for row in rows:\n",
    "        if question.match(row):\n",
    "            true_rows.append(row)\n",
    "        else:\n",
    "            false_rows.append(row)\n",
    "            \n",
    "    return true_rows, false_rows\n",
    "\n",
    "\n",
    "def gini(rows):\n",
    "    counts = labelCounts(rows) #counts is dictionary\n",
    "    \n",
    "    impurity = 1\n",
    "    for label in counts:\n",
    "        probability = counts[label]/float(len(rows)) \n",
    "        impurity -= (probability * probability)       # 1 - np.sum(p**2)\n",
    "        \n",
    "    return impurity\n",
    "\n",
    "\n",
    "def informationGain(left, right, currentUncertinity):\n",
    "    totalLength = len(left) + len(right)\n",
    "    probability_left = len(left)/float(totalLength)\n",
    "    probability_right = 1 - probability_left\n",
    "    weightedGini = (probability_left * gini(left)) + (probability_right * gini(right))\n",
    "    info_Gain = currentUncertinity - weightedGini\n",
    "    return info_Gain"
   ]
  },
  {
   "cell_type": "code",
   "execution_count": 6,
   "id": "5fa5acf0-603a-4124-87e6-8bea0b4f5cc9",
   "metadata": {},
   "outputs": [],
   "source": [
    "def Buble_sorting(all_QuestionGain):\n",
    "    new_Question_Gain_Order = []\n",
    "    Q_list = []\n",
    "    G_list = []\n",
    "    for Question, Gain in all_QuestionGain:\n",
    "        Q_list.append(Question) \n",
    "        G_list.append(Gain)\n",
    "    \n",
    "    tempGain = G_list.copy()\n",
    "    tempQues = Q_list.copy()\n",
    "    \n",
    "    l = len(all_QuestionGain)\n",
    "    new_Gain_Order = l* [0]\n",
    "    new_Ques_Order = l* [0]\n",
    "\n",
    "\n",
    "    for i in range(l):\n",
    "        new_Gain_Order[i] = tempGain[0]\n",
    "        for j in range(l-i-1):\n",
    "            if tempGain[j+1] > new_Gain_Order[i]:\n",
    "                new_Gain_Order[i] = tempGain[j+1]\n",
    "        \n",
    "        Ques_index = tempGain.index(new_Gain_Order[i])\n",
    "        new_Ques_Order[i] = tempQues[Ques_index]\n",
    "        \n",
    "        new_Question_Gain_Order.append( (new_Ques_Order[i],new_Gain_Order[i]) )\n",
    "        \n",
    "        tempGain.remove(new_Gain_Order[i])\n",
    "        tempQues.remove(new_Ques_Order[i])\n",
    "\n",
    "    return new_Question_Gain_Order"
   ]
  },
  {
   "cell_type": "code",
   "execution_count": 7,
   "id": "bbbd77a5-b770-4996-a9c2-9dc35c420565",
   "metadata": {},
   "outputs": [],
   "source": [
    "def findBestSplit(rows):\n",
    "    Question_Gain = []\n",
    "    \n",
    "    currentUncertinity = gini(rows)\n",
    "    no_feature = len(rows[0]) - 1    #if a row has 5 columns and the last column is label, then total feature no = 5-1\n",
    "    \n",
    "    for col in range(no_feature):\n",
    "        values = set([row[col] for row in rows])\n",
    "        for val in values:\n",
    "            question = Question(col, val)\n",
    "            trueRows, falseRows = partition(rows, question)\n",
    "\n",
    "            if ( (len(trueRows) == 0) or (len(falseRows) == 0) ):\n",
    "                continue\n",
    "\n",
    "            gain = informationGain(trueRows, falseRows, currentUncertinity)\n",
    "            Question_Gain.append((question,gain))\n",
    "            \n",
    "            \n",
    "    if(len(Question_Gain) >= 1):\n",
    "        Question_Gain = Buble_sorting(Question_Gain)\n",
    "        bestQuestion = Question_Gain[0][0]\n",
    "        bestGain = Question_Gain[0][1]\n",
    "    else:\n",
    "        bestQuestion = None\n",
    "        bestGain = 0\n",
    "        \n",
    "    \n",
    "    return bestGain, bestQuestion, Question_Gain"
   ]
  },
  {
   "cell_type": "code",
   "execution_count": 8,
   "id": "88798542-c76c-4673-9482-c0e949d01bd3",
   "metadata": {},
   "outputs": [],
   "source": [
    "class Leaf:\n",
    "    def __init__(self, rows):\n",
    "        self.predict = labelCounts(rows)\n",
    "        \n",
    "        \n",
    "class DecisionNode:\n",
    "    def __init__(self, question, trueBranch, falseBranch):\n",
    "        self.question = question\n",
    "        self.trueBranch = trueBranch\n",
    "        self.falseBranch = falseBranch"
   ]
  },
  {
   "cell_type": "code",
   "execution_count": 9,
   "id": "fc736f16-b1cd-4b8f-bd36-0cb3e98244a2",
   "metadata": {},
   "outputs": [],
   "source": [
    "def buildTree(rows):\n",
    "    bestGain, bestQuestion, Question_Gain = findBestSplit(rows)\n",
    "    if (bestGain == 0):\n",
    "        return Leaf(rows)\n",
    "    \n",
    "    trueRows, falseRows = partition(rows, bestQuestion)\n",
    "    \n",
    "    trueBranch = buildTree(trueRows)\n",
    "    falseBranch = buildTree(falseRows)\n",
    "    \n",
    "    return DecisionNode(bestQuestion, trueBranch, falseBranch)"
   ]
  },
  {
   "cell_type": "code",
   "execution_count": 10,
   "id": "32bb4ce8-ee64-462b-9460-ac7460a20074",
   "metadata": {},
   "outputs": [],
   "source": [
    "def printTrees(node, spacing=''):\n",
    "    if isinstance(node, Leaf):\n",
    "        print (spacing +'Predict', node.predict)\n",
    "        return\n",
    "    \n",
    "    spacing += '|'\n",
    "    print(spacing + str(node.question))\n",
    "    \n",
    "    spacing += '-'\n",
    "    print (spacing  + '> True:')\n",
    "    spacing += '--'\n",
    "    printTrees(node.trueBranch, spacing)\n",
    "    \n",
    "    spacing = spacing.replace(spacing, spacing[:-2])\n",
    "    print (spacing  + '> False:')\n",
    "    spacing += '--'\n",
    "    printTrees(node.falseBranch, spacing)\n"
   ]
  },
  {
   "cell_type": "code",
   "execution_count": 11,
   "id": "04d073a7-746d-4919-8a97-0d15d90795bd",
   "metadata": {},
   "outputs": [
    {
     "data": {
      "text/plain": [
       "[(Is Color == Red?, 0.23958333333333348),\n",
       " (Is Dimention >= 2?, 0.21875),\n",
       " (Is Dimention >= 3?, 0.21458333333333335),\n",
       " (Is Wideth >= 3?, 0.16458333333333341),\n",
       " (Is Color == White?, 0.1383928571428571),\n",
       " (Is Size >= 0.09?, 0.1383928571428571),\n",
       " (Is Color == Yellow?, 0.11458333333333326),\n",
       " (Is Size >= 0.02?, 0.11458333333333326),\n",
       " (Is Color == Green?, 0.1026785714285714),\n",
       " (Is Color == Black?, 0.1026785714285714),\n",
       " (Is Color == Blue?, 0.1026785714285714),\n",
       " (Is Wideth >= 1?, 0.1026785714285714),\n",
       " (Is Wideth >= 5?, 0.1026785714285714),\n",
       " (Is Wideth >= 2?, 0.08125000000000016),\n",
       " (Is Size >= 0.07?, 0.08125000000000016),\n",
       " (Is Wideth >= 4?, 0.07291666666666674),\n",
       " (Is Size >= 0.03?, 0.03125)]"
      ]
     },
     "execution_count": 11,
     "metadata": {},
     "output_type": "execute_result"
    }
   ],
   "source": [
    "bestGain, bestQuestion, Question_Gain = findBestSplit(data)\n",
    "Question_Gain"
   ]
  },
  {
   "cell_type": "code",
   "execution_count": 12,
   "id": "02f16e9c-b38b-4e00-bda9-6b98ec499ec7",
   "metadata": {},
   "outputs": [
    {
     "name": "stdout",
     "output_type": "stream",
     "text": [
      "|Is Color == Red?\n",
      "|-> True:\n",
      "|---Predict {'Grape': 2}\n",
      "|-> False:\n",
      "|---|Is Dimention >= 2?\n",
      "|---|-> True:\n",
      "|---|---|Is Color == White?\n",
      "|---|---|-> True:\n",
      "|---|---|---Predict {'Guava': 1}\n",
      "|---|---|-> False:\n",
      "|---|---|---|Is Color == Yellow?\n",
      "|---|---|---|-> True:\n",
      "|---|---|---|---|Is Wideth >= 2?\n",
      "|---|---|---|---|-> True:\n",
      "|---|---|---|---|---Predict {'Lemon': 1}\n",
      "|---|---|---|---|-> False:\n",
      "|---|---|---|---|---Predict {'Apple': 1}\n",
      "|---|---|---|-> False:\n",
      "|---|---|---|---Predict {'Apple': 1}\n",
      "|---|-> False:\n",
      "|---|---Predict {'Berry': 2}\n"
     ]
    }
   ],
   "source": [
    "myTree = buildTree(data)\n",
    "printTrees(myTree)"
   ]
  },
  {
   "cell_type": "code",
   "execution_count": 13,
   "id": "17b02113-3f9f-4837-a812-9c4e01a610da",
   "metadata": {},
   "outputs": [],
   "source": [
    "def classify(row, node):\n",
    "    if isinstance(node, Leaf):\n",
    "        return node.predict\n",
    "\n",
    "    if node.question.match(row):\n",
    "        return classify(row, node.trueBranch)\n",
    "    else:\n",
    "        return classify(row, node.falseBranch)\n",
    "    \n",
    "    \n",
    "def printLeaf(counts):\n",
    "    probability = {}\n",
    "    total_N_Outputs = sum(counts.values())\n",
    "    \n",
    "    for lbl in counts:\n",
    "        probability[lbl] = str( (counts[lbl] / total_N_Outputs)*100 ) + '%'\n",
    "    \n",
    "    return probability"
   ]
  },
  {
   "cell_type": "code",
   "execution_count": 14,
   "id": "7a846476-7b3b-4248-a9f2-78cbcde6ae9a",
   "metadata": {},
   "outputs": [
    {
     "data": {
      "text/plain": [
       "{'Apple': '100.0%'}"
      ]
     },
     "execution_count": 14,
     "metadata": {},
     "output_type": "execute_result"
    }
   ],
   "source": [
    "printLeaf(classify(['green',3], myTree))"
   ]
  }
 ],
 "metadata": {
  "kernelspec": {
   "display_name": "Python 3 (ipykernel)",
   "language": "python",
   "name": "python3"
  },
  "language_info": {
   "codemirror_mode": {
    "name": "ipython",
    "version": 3
   },
   "file_extension": ".py",
   "mimetype": "text/x-python",
   "name": "python",
   "nbconvert_exporter": "python",
   "pygments_lexer": "ipython3",
   "version": "3.9.12"
  }
 },
 "nbformat": 4,
 "nbformat_minor": 5
}
